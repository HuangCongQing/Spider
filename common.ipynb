{
 "cells": [
  {
   "attachments": {},
   "cell_type": "markdown",
   "metadata": {},
   "source": [
    "常用的代码片段"
   ]
  },
  {
   "attachments": {},
   "cell_type": "markdown",
   "metadata": {},
   "source": [
    "## 获取html保存网页\n",
    "* https://www.yuque.com/huangzhongqing/spider/bofvgu#e11fI"
   ]
  },
  {
   "cell_type": "code",
   "execution_count": 1,
   "metadata": {},
   "outputs": [],
   "source": [
    "url = \"https://www.szwego.com/static/index.html?t=1680711005#/shop_detail/_dEyEqizHht1K7kwZpFlYD2eHMOaiRRJjcsnw3zw\"\n",
    "\n",
    "import requests\n",
    "headers = {#封装请求头\n",
    "    'User-Agent':'User-Agent: Mozilla/5.0 (Windows NT 10.0; Win64; x64) AppleWebKit/537.36 (KHTML, like Gecko) Chrome/83.0.4103.116 Safari/537.36'\n",
    "}\n",
    "response = requests.get(url=url,headers=headers)\n",
    "page_text = response.text\n",
    "with open('result.html','w',encoding='utf-8') as f:\n",
    "    f.write(page_text)\n"
   ]
  },
  {
   "attachments": {},
   "cell_type": "markdown",
   "metadata": {},
   "source": [
    "## 爬取表格"
   ]
  },
  {
   "cell_type": "code",
   "execution_count": 11,
   "metadata": {},
   "outputs": [
    {
     "name": "stdout",
     "output_type": "stream",
     "text": [
      "[]\n"
     ]
    }
   ],
   "source": [
    "import requests\n",
    "from bs4 import BeautifulSoup\n",
    "from lxml import etree\n",
    "import pandas as pd\n",
    "\n",
    "# 获取数据\n",
    "#UA伪装：将对应的User-Agent封装到一个字典中\n",
    "headers = {\n",
    "    'User-Agent':'Mozilla/5.0 (Macintosh; Intel Mac OS X 10_12_0) AppleWebKit/537.36 (KHTML, like Gecko) Chrome/72.0.3626.121 Safari/537.36'\n",
    "}\n",
    "url = 'https://www.sensorexpert.com.cn/article/199300.html'\n",
    "#对指定的url发起的请求对应的url是携带参数的，并且请求过程中处理了参数\n",
    "response = requests.get(url=url,headers=headers)\n",
    "response.encoding = 'utf-8' \n",
    "page_text = response.text\n",
    "# print(page_text)\n",
    "with open('result.html','w',encoding='utf-8') as f:\n",
    "    f.write(page_text)\n",
    "tree = etree.HTML(page_text)\n",
    "# 获取data\n",
    "# tab_con  =  tree.xpath('//div[@class=\"tabCon\"]')\n",
    "tr_list1 = tree.xpath('//div[@class=\"contentAll\"]')#   一级学科表格\n",
    "print(tr_list1) # []"
   ]
  },
  {
   "cell_type": "code",
   "execution_count": null,
   "metadata": {},
   "outputs": [],
   "source": []
  },
  {
   "cell_type": "code",
   "execution_count": null,
   "metadata": {},
   "outputs": [],
   "source": []
  }
 ],
 "metadata": {
  "kernelspec": {
   "display_name": "base",
   "language": "python",
   "name": "python3"
  },
  "language_info": {
   "codemirror_mode": {
    "name": "ipython",
    "version": 3
   },
   "file_extension": ".py",
   "mimetype": "text/x-python",
   "name": "python",
   "nbconvert_exporter": "python",
   "pygments_lexer": "ipython3",
   "version": "3.9.7"
  },
  "orig_nbformat": 4
 },
 "nbformat": 4,
 "nbformat_minor": 2
}
