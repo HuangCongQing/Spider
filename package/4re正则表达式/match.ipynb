{
 "cells": [
  {
   "attachments": {},
   "cell_type": "markdown",
   "metadata": {},
   "source": [
    "# 匹配"
   ]
  },
  {
   "attachments": {},
   "cell_type": "markdown",
   "metadata": {},
   "source": [
    "## 匹配货币/金额\n",
    "https://www.yuque.com/huangzhongqing/spider/pdihgf#dEKGc"
   ]
  },
  {
   "cell_type": "code",
   "execution_count": 18,
   "metadata": {},
   "outputs": [
    {
     "name": "stdout",
     "output_type": "stream",
     "text": [
      "不满足条件\n"
     ]
    }
   ],
   "source": [
    "# 1 re匹配\n",
    "# 冰绿金枝玉叶，尺寸约32*18*6mm货号A220821070-17 一手走起  优价70/个\n",
    "# 【名称】精致和田玉《山水牌》【寓意】平安健康   吉祥如意【规格】39＊68【编号】3447#【批价】720/件\n",
    "text  = \"冰绿金枝玉叶，尺寸约32*18*6mm货号A220821070-17, 发啊安抚/件\"\n",
    "\n",
    "import re\n",
    "# 匹配格式（当前匹配 元|个|件）\n",
    "Regx = re.compile(\"(([1-9]\\\\d*[\\\\d,，]*\\\\.?\\\\d*)|(0\\\\.[0-9]+))(/|元|个|件|百万|万元|亿元|万|亿)\")\n",
    "result =  Regx.search(text)\n",
    "if result != None:\n",
    "    print(result.group())\n",
    "    print(re.findall(\"\\d+\",result.group())[0]  )  # 输出结果为列表)\n",
    "else:\n",
    "    print(\"不满足条件\")"
   ]
  },
  {
   "cell_type": "code",
   "execution_count": 24,
   "metadata": {},
   "outputs": [
    {
     "name": "stdout",
     "output_type": "stream",
     "text": [
      "70元\n"
     ]
    }
   ],
   "source": [
    "# 2 库JioNLP 太死板\n",
    "# https://github.com/dongrixinyu/JioNLP\n",
    "\n",
    " \n",
    "import jionlp as jio\n",
    "text = '张三赔偿李四人民币车费601,293.11元，工厂费一万二千三百四十五元,利息9佰日元，打印费十块钱。' \n",
    "text = '冰绿金枝玉叶，尺寸约32*18*6mm货号A220821070-17 一手走起  优价70元/个' \n",
    "moneys = jio.extract_money(text)\n",
    "print(moneys[0])\n",
    "# standard_moneys = [jio.money_standardization(i) for i in moneys]\n",
    " \n",
    "#  moneys: ['601,293.11元', '一万二千三百四十五元', '9佰日元', '十块钱']\n",
    "#  standard_moneys: ['601293.11元', '12345.00元', '900.00日元', '10.00元']"
   ]
  },
  {
   "attachments": {},
   "cell_type": "markdown",
   "metadata": {},
   "source": []
  },
  {
   "cell_type": "code",
   "execution_count": null,
   "metadata": {},
   "outputs": [],
   "source": []
  },
  {
   "cell_type": "code",
   "execution_count": null,
   "metadata": {},
   "outputs": [],
   "source": [
    "\n",
    "\n"
   ]
  }
 ],
 "metadata": {
  "kernelspec": {
   "display_name": "base",
   "language": "python",
   "name": "python3"
  },
  "language_info": {
   "codemirror_mode": {
    "name": "ipython",
    "version": 3
   },
   "file_extension": ".py",
   "mimetype": "text/x-python",
   "name": "python",
   "nbconvert_exporter": "python",
   "pygments_lexer": "ipython3",
   "version": "3.9.7"
  },
  "orig_nbformat": 4
 },
 "nbformat": 4,
 "nbformat_minor": 2
}
